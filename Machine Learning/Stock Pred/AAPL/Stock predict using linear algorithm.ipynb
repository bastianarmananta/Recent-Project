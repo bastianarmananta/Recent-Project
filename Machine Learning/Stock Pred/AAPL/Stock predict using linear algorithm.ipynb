{
 "cells": [
  {
   "cell_type": "code",
   "execution_count": 19,
   "id": "33c9f94b",
   "metadata": {},
   "outputs": [],
   "source": [
    "import pandas as pd\n",
    "import pandas as pd\n",
    "import matplotlib.pyplot as plt\n",
    "from sklearn import linear_model\n",
    "from sklearn.linear_model import HuberRegressor\n",
    "from sklearn.linear_model import LinearRegression"
   ]
  },
  {
   "cell_type": "code",
   "execution_count": 20,
   "id": "0029fa1a",
   "metadata": {},
   "outputs": [
    {
     "data": {
      "text/html": [
       "<div>\n",
       "<style scoped>\n",
       "    .dataframe tbody tr th:only-of-type {\n",
       "        vertical-align: middle;\n",
       "    }\n",
       "\n",
       "    .dataframe tbody tr th {\n",
       "        vertical-align: top;\n",
       "    }\n",
       "\n",
       "    .dataframe thead th {\n",
       "        text-align: right;\n",
       "    }\n",
       "</style>\n",
       "<table border=\"1\" class=\"dataframe\">\n",
       "  <thead>\n",
       "    <tr style=\"text-align: right;\">\n",
       "      <th></th>\n",
       "      <th>Close day 1</th>\n",
       "      <th>Close day 2</th>\n",
       "      <th>Close day 3</th>\n",
       "      <th>Close day 4</th>\n",
       "      <th>Close day 5</th>\n",
       "      <th>Close day 6</th>\n",
       "      <th>Close day 7</th>\n",
       "      <th>y</th>\n",
       "    </tr>\n",
       "  </thead>\n",
       "  <tbody>\n",
       "    <tr>\n",
       "      <th>0</th>\n",
       "      <td>0.128348</td>\n",
       "      <td>0.121652</td>\n",
       "      <td>0.112723</td>\n",
       "      <td>0.115513</td>\n",
       "      <td>0.118862</td>\n",
       "      <td>0.126116</td>\n",
       "      <td>0.132254</td>\n",
       "      <td>0.137835</td>\n",
       "    </tr>\n",
       "    <tr>\n",
       "      <th>1</th>\n",
       "      <td>0.121652</td>\n",
       "      <td>0.112723</td>\n",
       "      <td>0.115513</td>\n",
       "      <td>0.118862</td>\n",
       "      <td>0.126116</td>\n",
       "      <td>0.132254</td>\n",
       "      <td>0.137835</td>\n",
       "      <td>0.145089</td>\n",
       "    </tr>\n",
       "    <tr>\n",
       "      <th>2</th>\n",
       "      <td>0.112723</td>\n",
       "      <td>0.115513</td>\n",
       "      <td>0.118862</td>\n",
       "      <td>0.126116</td>\n",
       "      <td>0.132254</td>\n",
       "      <td>0.137835</td>\n",
       "      <td>0.145089</td>\n",
       "      <td>0.158482</td>\n",
       "    </tr>\n",
       "    <tr>\n",
       "      <th>3</th>\n",
       "      <td>0.115513</td>\n",
       "      <td>0.118862</td>\n",
       "      <td>0.126116</td>\n",
       "      <td>0.132254</td>\n",
       "      <td>0.137835</td>\n",
       "      <td>0.145089</td>\n",
       "      <td>0.158482</td>\n",
       "      <td>0.160714</td>\n",
       "    </tr>\n",
       "    <tr>\n",
       "      <th>4</th>\n",
       "      <td>0.118862</td>\n",
       "      <td>0.126116</td>\n",
       "      <td>0.132254</td>\n",
       "      <td>0.137835</td>\n",
       "      <td>0.145089</td>\n",
       "      <td>0.158482</td>\n",
       "      <td>0.160714</td>\n",
       "      <td>0.156808</td>\n",
       "    </tr>\n",
       "  </tbody>\n",
       "</table>\n",
       "</div>"
      ],
      "text/plain": [
       "   Close day 1  Close day 2  Close day 3  Close day 4  Close day 5  \\\n",
       "0     0.128348     0.121652     0.112723     0.115513     0.118862   \n",
       "1     0.121652     0.112723     0.115513     0.118862     0.126116   \n",
       "2     0.112723     0.115513     0.118862     0.126116     0.132254   \n",
       "3     0.115513     0.118862     0.126116     0.132254     0.137835   \n",
       "4     0.118862     0.126116     0.132254     0.137835     0.145089   \n",
       "\n",
       "   Close day 6  Close day 7         y  \n",
       "0     0.126116     0.132254  0.137835  \n",
       "1     0.132254     0.137835  0.145089  \n",
       "2     0.137835     0.145089  0.158482  \n",
       "3     0.145089     0.158482  0.160714  \n",
       "4     0.158482     0.160714  0.156808  "
      ]
     },
     "execution_count": 20,
     "metadata": {},
     "output_type": "execute_result"
    }
   ],
   "source": [
    "df = pd.read_csv(\"Dataset/Close.csv\")\n",
    "df.head()"
   ]
  },
  {
   "cell_type": "code",
   "execution_count": 44,
   "id": "176fb4d8",
   "metadata": {},
   "outputs": [
    {
     "name": "stdout",
     "output_type": "stream",
     "text": [
      "0.9988348983933458\n",
      "0.9988349146248281\n",
      "0.9988347880811608\n"
     ]
    },
    {
     "data": {
      "image/png": "[encoded data removed]",
      "text/plain": [
       "<Figure size 432x288 with 1 Axes>"
      ]
     },
     "metadata": {
      "needs_background": "light"
     },
     "output_type": "display_data"
    }
   ],
   "source": [
    "X_Close = df.iloc[:, 4:5].values\n",
    "Y_Close = df.iloc[: , -1].values\n",
    "#######################################################################################################################################\n",
    "##################################################>>>> LASSO ALGORITHM <<##############################################################\n",
    "Lasso = linear_model.Lasso(alpha=0.1)\n",
    "Lasso.fit(X_Close, Y_Close)\n",
    "\n",
    "Lasso_Close = Lasso.predict(X_Close)\n",
    "\n",
    "PredictCloseLine_Lasso = [n for n in range(Lasso_Close.shape[0])]\n",
    "Final_Lasso = plt.plot(PredictCloseLine_Lasso[:25], Lasso_Close[:25], '.-', PredictCloseLine_Lasso[:25], Y_Close[:25])\n",
    "#######################################################################################################################################\n",
    "##################################################>>>> HUBER ALGORITHM <<<<############################################################\n",
    "Huber = HuberRegressor().fit(X_Close, Y_Close)\n",
    "  \n",
    "Huber_Close = Huber.predict(X_Close)\n",
    "\n",
    "PredictCloseLine_Huber = [n for n in range(Huber_Close.shape[0])]\n",
    "\n",
    "Final_Huber = plt.plot(PredictCloseLine_Huber[:25], Huber_Close[:25], '+', PredictCloseLine_Huber[:25], Y_Close[:25])\n",
    "####################################################################################################################################### \n",
    "##################################################>>>> LINEAR ALGORITHM <<<<############################################################\n",
    "Linear = LinearRegression().fit(X_Close, Y_Close)\n",
    "\n",
    "Linear_Close = Linear.predict(X_Close)\n",
    "\n",
    "PredictCloseLine_Linear = [n for n in range(Linear_Close.shape[0])]\n",
    "\n",
    "Final_Linear = plt.plot(PredictCloseLine_Linear[:25], Linear_Close[:25], '--', PredictCloseLine_Linear[:25], Y_Close[:25])\n",
    "#######################################################################################################################################\n",
    "print(Lasso.score(X_Close,Y_Close))\n",
    "print(Linear.score(X_Close,Y_Close))\n",
    "print(Huber.score(X_Close,Y_Close))"
   ]
  },
  {
   "cell_type": "code",
   "execution_count": 46,
   "id": "142b7e19",
   "metadata": {},
   "outputs": [
    {
     "data": {
      "text/plain": [
       "0.3072415489077905"
      ]
     },
     "execution_count": 46,
     "metadata": {},
     "output_type": "execute_result"
    }
   ],
   "source": [
    "from sklearn.metrics import mean_absolute_error\n",
    "mean_absolute_error(X_Close, Y_Close)"
   ]
  },
  {
   "cell_type": "code",
   "execution_count": null,
   "id": "4dc5664a",
   "metadata": {},
   "outputs": [],
   "source": []
  }
 ],
 "metadata": {
  "kernelspec": {
   "display_name": "Python 3 (ipykernel)",
   "language": "python",
   "name": "python3"
  },
  "language_info": {
   "codemirror_mode": {
    "name": "ipython",
    "version": 3
   },
   "file_extension": ".py",
   "mimetype": "text/x-python",
   "name": "python",
   "nbconvert_exporter": "python",
   "pygments_lexer": "ipython3",
   "version": "3.8.10"
  }
 },
 "nbformat": 4,
 "nbformat_minor": 5
}
